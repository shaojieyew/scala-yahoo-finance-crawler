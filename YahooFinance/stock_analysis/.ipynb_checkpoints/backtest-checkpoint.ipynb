{
 "cells": [
  {
   "cell_type": "code",
   "execution_count": 352,
   "metadata": {},
   "outputs": [],
   "source": [
    "import pandas as pd\n",
    "from datetime import datetime\n",
    "import numpy as np\n",
    "from datetime import timedelta, date\n",
    "\n",
    "import matplotlib.dates as mdates\n",
    "from scipy import stats\n",
    "import datetime as dt\n"
   ]
  },
  {
   "cell_type": "code",
   "execution_count": 353,
   "metadata": {},
   "outputs": [],
   "source": [
    "import psycopg2\n",
    "connection = psycopg2.connect(user = \"postgres\", password = \"admin\", host = \"127.0.0.1\",port = \"5432\", database = \"postgres\")"
   ]
  },
  {
   "cell_type": "code",
   "execution_count": 354,
   "metadata": {},
   "outputs": [],
   "source": [
    "def process_data(quotes):\n",
    "    from talib import RSI\n",
    "    from talib import MACD\n",
    "    from talib import SMA\n",
    "    from talib import EMA\n",
    "    from talib import ATR\n",
    "    # Simple Moving Averages\n",
    "    quotes['sma50'] = SMA(quotes['close'], timeperiod=50)\n",
    "    # Exponential Moving Averages\n",
    "    quotes['ema50'] = EMA(quotes['close'], timeperiod=50)\n",
    "    # MACD indicator - MACD(12,26,9)\n",
    "    quotes['macd_line'], quotes['signal_line'], quotes['macd_hist'] = MACD(quotes['close'], fastperiod=12, slowperiod=26, signalperiod=9)\n",
    "    # Compute RSI (14 days)\n",
    "    quotes[\"rsi\"] = RSI(quotes['close'].values, timeperiod=14)\n",
    "    # Compute ATR (14 days)\n",
    "    quotes[\"atr\"] = ATR(quotes['high'].values,quotes['low'].values, quotes['close'].values ,timeperiod=14)\n",
    "\n",
    "    atr_stoploss  = ATR_STOPLOSS(close = quotes.close.values, high = quotes.high.values, low = quotes.low.values, atr = quotes.atr.values, times=5, period=14)\n",
    "    quotes[\"atr_stoploss\"] = atr_stoploss[0]\n",
    "    \n",
    "    return quotes\n",
    "\n",
    "\n",
    "\n",
    "def ATR_STOPLOSS(close, high, low, atr, times=4, period=14):\n",
    "    first = 1\n",
    "    import math\n",
    "    atr_trailing_stoploss = np.full(len(close)+1, np.nan)\n",
    "    for i in range(0,len(close)):\n",
    "        \n",
    "        if(i>0 and math.isnan(atr[i])==False):\n",
    "            if(close[i-1]>atr_trailing_stoploss[i] and close[i]<atr_trailing_stoploss[i]):\n",
    "                loss = atr[i]*times\n",
    "                atr_trailing_stoploss[i+1]=close[i]+loss  \n",
    "                continue\n",
    "        if(i>0 and math.isnan(atr[i])==False):\n",
    "            if(close[i-1]<atr_trailing_stoploss[i] and close[i]>atr_trailing_stoploss[i]):\n",
    "                loss = atr[i]*times\n",
    "                atr_trailing_stoploss[i+1]=close[i]-loss  \n",
    "                continue\n",
    "                \n",
    "        if(math.isnan(atr[i])==False):\n",
    "            loss = atr[i]*times\n",
    "            atr_trailing_stoploss[i+1]=close[i]-loss\n",
    "            if(close[i]<atr_trailing_stoploss[i]):\n",
    "                if(atr_trailing_stoploss[i]>close[i]+loss):\n",
    "                    atr_trailing_stoploss[i+1]=close[i]+loss\n",
    "                else:\n",
    "                    if(math.isnan(atr_trailing_stoploss[i])==False):\n",
    "                        atr_trailing_stoploss[i+1]=atr_trailing_stoploss[i]\n",
    "            else:\n",
    "                if(atr_trailing_stoploss[i]<close[i]-loss):\n",
    "                    atr_trailing_stoploss[i+1]=close[i]-loss\n",
    "                else:\n",
    "                    if(math.isnan(atr_trailing_stoploss[i])==False):\n",
    "                        atr_trailing_stoploss[i+1]=atr_trailing_stoploss[i]\n",
    "    return atr_trailing_stoploss[:-1], atr_trailing_stoploss[-1:]"
   ]
  },
  {
   "cell_type": "code",
   "execution_count": 355,
   "metadata": {},
   "outputs": [],
   "source": [
    "def close_conn():\n",
    "    if(connection):\n",
    "        cursor.close()\n",
    "        connection.close()\n",
    "\n",
    "def get_data(stock):\n",
    "    data = pd.read_sql_query(\"SELECT * FROM finance.stock_price where stock = '\"+stock+\"' order by date asc\",con=connection)\n",
    "    return process_data(data)"
   ]
  },
  {
   "cell_type": "code",
   "execution_count": null,
   "metadata": {},
   "outputs": [],
   "source": []
  },
  {
   "cell_type": "markdown",
   "metadata": {},
   "source": [
    "# 1. Action Signal\n"
   ]
  },
  {
   "cell_type": "code",
   "execution_count": 397,
   "metadata": {},
   "outputs": [],
   "source": [
    "def get_action(data, i):\n",
    "    import random\n",
    "    action =\"HOLD\"\n",
    "    rand = random.uniform(0, 3)\n",
    "    if(rand < 1):\n",
    "        action = \"LONG\"\n",
    "    if(rand > 2):\n",
    "        action = \"SHORT\"\n",
    "        \n",
    "        \n",
    "    if(data.atr_stoploss[i]>data.close[i]):\n",
    "        action = \"SHORT\"\n",
    "    if(data.atr_stoploss[i]<data.close[i]):\n",
    "        action = \"LONG\"\n",
    "    return action"
   ]
  },
  {
   "cell_type": "markdown",
   "metadata": {},
   "source": [
    "# 2. Back Testing"
   ]
  },
  {
   "cell_type": "code",
   "execution_count": 398,
   "metadata": {},
   "outputs": [
    {
     "name": "stdout",
     "output_type": "stream",
     "text": [
      "asset: 83240.74\n",
      "profit: -16.76%\n",
      "asset: 150296.52000000002\n",
      "profit: 50.3%\n",
      "asset: 195869.96000000002\n",
      "profit: 95.87%\n",
      "asset: 247193.32\n",
      "profit: 147.19%\n",
      "asset: 246847.26\n",
      "profit: 146.85%\n",
      "asset: 302137.0\n",
      "profit: 202.14%\n",
      "asset: 310735.26\n",
      "profit: 210.74%\n",
      "asset: 349706.94\n",
      "profit: 249.71%\n",
      "asset: 357160.54000000004\n",
      "profit: 257.16%\n",
      "asset: 377950.76\n",
      "profit: 277.95%\n",
      "Average Growth (10*1): 147.37727272727273%\n"
     ]
    }
   ],
   "source": [
    "def println(str):\n",
    "    show_each_tries= True\n",
    "    if(show_each_tries):\n",
    "        print(str)\n",
    "\n",
    "def back_test(data, cash = 100000,transaction_fee = 0.01, assets={}):\n",
    "    init_cash = cash\n",
    "    for i,row in data.iterrows():\n",
    "        #Decision\n",
    "        action = get_action(data, i)\n",
    "        #Execution\n",
    "        if(action==\"LONG\"):\n",
    "            shares = int(cash/(row.close*(1+transaction_fee)))\n",
    "            if(shares>0):\n",
    "                cost = shares*row.close*(1+transaction_fee)\n",
    "                cash_left = cash-cost\n",
    "                if row.stock not in assets:\n",
    "                    assets[row.stock]=0\n",
    "                assets[row.stock] = assets[row.stock] + shares\n",
    "                cash = cash_left\n",
    "        if(action==\"SHORT\"):\n",
    "                if row.stock in assets:\n",
    "                    shares = assets[row.stock]\n",
    "                    if(shares>0):\n",
    "                        asset = shares * row.close\n",
    "                        cash = cash + asset*(1-transaction_fee)\n",
    "                        assets.clear()\n",
    "    final_cash = cash\n",
    "    if(data.iloc[-1].stock in assets):\n",
    "        final_cash = assets[data.iloc[-1].stock]*data.iloc[-1].close\n",
    "    println(\"asset: \"+str(final_cash))\n",
    "    growth =((final_cash-init_cash)/init_cash)*100\n",
    "    println(\"profit: \"+str(round(growth,2))+\"%\")\n",
    "    return round(growth,2)\n",
    "\n",
    "total_tries = 10\n",
    "accumulated_growth = 0\n",
    "stocks = [\"D05.SI\"]\n",
    "for i in range(0,total_tries):\n",
    "    for stock in stocks:\n",
    "        result = back_test(get_data(stock), transaction_fee =0.01)\n",
    "    accumulated_growth = round(accumulated_growth +result ,2)\n",
    "print(\"Average Growth (\"+str(total_tries)+\"*\"+str(len(stocks))+\"): \"+ str(accumulated_growth/(total_tries+len(stocks)))+\"%\")"
   ]
  },
  {
   "cell_type": "code",
   "execution_count": null,
   "metadata": {},
   "outputs": [],
   "source": []
  },
  {
   "cell_type": "code",
   "execution_count": null,
   "metadata": {},
   "outputs": [],
   "source": []
  },
  {
   "cell_type": "code",
   "execution_count": null,
   "metadata": {},
   "outputs": [],
   "source": []
  },
  {
   "cell_type": "code",
   "execution_count": null,
   "metadata": {},
   "outputs": [],
   "source": []
  },
  {
   "cell_type": "code",
   "execution_count": null,
   "metadata": {},
   "outputs": [],
   "source": []
  },
  {
   "cell_type": "code",
   "execution_count": null,
   "metadata": {},
   "outputs": [],
   "source": []
  },
  {
   "cell_type": "code",
   "execution_count": null,
   "metadata": {},
   "outputs": [],
   "source": []
  },
  {
   "cell_type": "code",
   "execution_count": null,
   "metadata": {},
   "outputs": [],
   "source": []
  },
  {
   "cell_type": "code",
   "execution_count": null,
   "metadata": {},
   "outputs": [],
   "source": []
  },
  {
   "cell_type": "code",
   "execution_count": null,
   "metadata": {},
   "outputs": [],
   "source": []
  },
  {
   "cell_type": "code",
   "execution_count": null,
   "metadata": {},
   "outputs": [],
   "source": []
  },
  {
   "cell_type": "code",
   "execution_count": null,
   "metadata": {},
   "outputs": [],
   "source": []
  },
  {
   "cell_type": "code",
   "execution_count": null,
   "metadata": {},
   "outputs": [],
   "source": []
  },
  {
   "cell_type": "code",
   "execution_count": null,
   "metadata": {},
   "outputs": [],
   "source": []
  },
  {
   "cell_type": "code",
   "execution_count": null,
   "metadata": {},
   "outputs": [],
   "source": []
  },
  {
   "cell_type": "code",
   "execution_count": null,
   "metadata": {},
   "outputs": [],
   "source": []
  }
 ],
 "metadata": {
  "kernelspec": {
   "display_name": "Python 3",
   "language": "python",
   "name": "python3"
  },
  "language_info": {
   "codemirror_mode": {
    "name": "ipython",
    "version": 3
   },
   "file_extension": ".py",
   "mimetype": "text/x-python",
   "name": "python",
   "nbconvert_exporter": "python",
   "pygments_lexer": "ipython3",
   "version": "3.6.8"
  }
 },
 "nbformat": 4,
 "nbformat_minor": 4
}
