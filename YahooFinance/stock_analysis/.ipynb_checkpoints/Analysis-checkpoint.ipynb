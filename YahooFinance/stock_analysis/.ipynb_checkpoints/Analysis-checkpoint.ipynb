{
 "cells": [
  {
   "cell_type": "code",
   "execution_count": 1,
   "metadata": {},
   "outputs": [],
   "source": [
    "import pandas as pd\n",
    "from datetime import datetime\n",
    "import numpy as np\n",
    "from datetime import timedelta, date\n",
    "\n",
    "import matplotlib.dates as mdates\n",
    "from scipy import stats\n",
    "import datetime as dt\n"
   ]
  },
  {
   "cell_type": "code",
   "execution_count": 2,
   "metadata": {},
   "outputs": [],
   "source": [
    "import psycopg2\n",
    "connection = psycopg2.connect(user = \"postgres\", password = \"admin\", host = \"127.0.0.1\",port = \"5432\", database = \"postgres\")"
   ]
  },
  {
   "cell_type": "code",
   "execution_count": 3,
   "metadata": {},
   "outputs": [],
   "source": [
    "def process_data(quotes):\n",
    "    from talib import RSI\n",
    "    from talib import MACD\n",
    "    from talib import SMA\n",
    "    from talib import EMA\n",
    "    # Simple Moving Averages\n",
    "    quotes['sma50'] = SMA(quotes['close'], timeperiod=50)\n",
    "    # Exponential Moving Averages\n",
    "    quotes['ema50'] = EMA(quotes['close'], timeperiod=50)\n",
    "    # MACD indicator - MACD(12,26,9)\n",
    "    quotes['macd_line'], quotes['signal_line'], quotes['macd_hist'] = MACD(quotes['close'], fastperiod=12, slowperiod=26, signalperiod=9)\n",
    "    # Compute RSI (14 days)\n",
    "    quotes[\"rsi\"] = RSI(quotes['close'].values, timeperiod=14)\n",
    "    return quotes"
   ]
  },
  {
   "cell_type": "code",
   "execution_count": 6,
   "metadata": {},
   "outputs": [],
   "source": [
    "def close_conn():\n",
    "    if(connection):\n",
    "        cursor.close()\n",
    "        connection.close()\n",
    "        \n",
    "stock = 'GOOGL'\n",
    "data = pd.read_sql_query(\"SELECT * FROM finance.stock_price where stock = '\"+stock+\"' and date > '2010-01-01' order by date asc\",con=connection)\n",
    "processed_df = process_data(data)\n"
   ]
  },
  {
   "cell_type": "markdown",
   "metadata": {},
   "source": [
    "###Plot chart"
   ]
  },
  {
   "cell_type": "code",
   "execution_count": 122,
   "metadata": {},
   "outputs": [
    {
     "data": {
      "application/vnd.jupyter.widget-view+json": {
       "model_id": "b238af8b4bce46328e36a705e921ef92",
       "version_major": 2,
       "version_minor": 0
      },
      "text/plain": [
       "FigureWidget({\n",
       "    'data': [{'name': 'close',\n",
       "              'type': 'scattergl',\n",
       "              'uid': '66159da…"
      ]
     },
     "metadata": {},
     "output_type": "display_data"
    }
   ],
   "source": [
    "\n",
    "\n",
    "######Plot######\n",
    "import plotly.graph_objs as go \n",
    "from datetime import datetime\n",
    "from ipywidgets import interact, interactive, fixed, interact_manual\n",
    "import ipywidgets as widgets\n",
    "from plotly.subplots import make_subplots\n",
    "# Make sure dates are in ascending order\n",
    "# We need this for slicing in the callback below\n",
    "df = processed_df.set_index('date')\n",
    "\n",
    "fig = go.FigureWidget(make_subplots(rows=4, cols=1))\n",
    "fig.add_trace(\n",
    "    go.Scattergl(x=list(df.index), y=list(df['close']),\n",
    "    name = \"close\"),\n",
    "    row=1, col=1\n",
    ")\n",
    "fig.add_trace(\n",
    "    go.Scattergl(x=list(df.index), y=list(df['ema50']),\n",
    "    name = \"ema50\"),\n",
    "    row=1, col=1\n",
    ")\n",
    "\n",
    "fig.add_trace(\n",
    "    go.Bar(x=list(df.index), y=list(df['vol']),\n",
    "    name = \"vol\"),\n",
    "    row=2, col=1\n",
    ")\n",
    "fig.add_trace(\n",
    "    go.Scattergl(x=list(df.index), y=list(df['rsi']),\n",
    "    name = \"rsi\"),\n",
    "    row=3, col=1\n",
    ")\n",
    "\n",
    "fig.add_trace(\n",
    "    go.Scattergl(x=list(df.index), y=list(df['macd_line']),\n",
    "    name = \"macd_line\"),\n",
    "    row=4, col=1\n",
    ")\n",
    "fig.add_trace(\n",
    "    go.Scattergl(x=list(df.index), y=list(df['signal_line']),\n",
    "    name = \"signal_line\"),\n",
    "    row=4, col=1\n",
    ")\n",
    "fig.add_trace(\n",
    "    go.Bar(x=list(df.index), y=list(df['macd_hist']),\n",
    "    name = \"macd_hist\"),\n",
    "    row=4, col=1\n",
    ")\n",
    "\n",
    "\n",
    "fig.layout.xaxis=dict(\n",
    "        anchor='x',\n",
    "        rangeselector=dict(\n",
    "            buttons=list([\n",
    "                dict(count=1,\n",
    "                     label='1m',\n",
    "                     step='month',\n",
    "                     stepmode='backward'),\n",
    "                dict(count=6,\n",
    "                     label='6m',\n",
    "                     step='month',\n",
    "                     stepmode='backward'),\n",
    "                dict(count=1,\n",
    "                    label='YTD',\n",
    "                    step='year',\n",
    "                    stepmode='todate'),\n",
    "                dict(count=1,\n",
    "                    label='1y',\n",
    "                    step='year',\n",
    "                    stepmode='backward'),\n",
    "                dict(step='all')\n",
    "            ])\n",
    "        ),\n",
    "        type='date'\n",
    "    )\n",
    "fig.layout.yaxis=dict(\n",
    "        domain=[0.6, 1]\n",
    "    )\n",
    "fig.layout.yaxis2=dict(\n",
    "        domain=[0.46, 0.57]\n",
    "    )\n",
    "fig.layout.yaxis3=dict(\n",
    "        domain=[0.23, 0.43]\n",
    "    )\n",
    "fig.layout.yaxis4=dict(\n",
    "        domain=[0, 0.2]\n",
    "    )\n",
    "fig.layout.yaxis3.range=[0,100]\n",
    "fig.layout.yaxis3.tickvals=[0,20,80,100]\n",
    "fig['layout'].update(height=800, width=1000) \n",
    "fig['layout'].update(title=stock) \n",
    "\n",
    "    \n",
    "#trace = go.Candlestick(x=df.index,open=df['open'],high=df['high'],low=df['low'],close=df['close'])\n",
    "\n",
    "import time\n",
    "import datetime\n",
    "def zoom(layout, xrange):\n",
    "    try:\n",
    "        in_view = df.loc[fig.layout.xaxis.range[0]:fig.layout.xaxis.range[1]]\n",
    "        fig.layout.xaxis2.range = fig.layout.xaxis.range\n",
    "        fig.layout.xaxis3.range = fig.layout.xaxis.range\n",
    "        fig.layout.xaxis4.range = fig.layout.xaxis.range\n",
    "        padding = 0.1\n",
    "        \n",
    "        from_price = in_view.iloc[0].close\n",
    "        to_price = in_view.iloc[-1].close\n",
    "        growth = (to_price-from_price)/from_price*100.0\n",
    "        max_val_y = in_view.close.max()\n",
    "        min_val_y =  in_view.close.min()\n",
    "        axis_diff = max_val_y-min_val_y\n",
    "        fig.layout.yaxis.range = [min_val_y - (axis_diff*padding), max_val_y + (axis_diff*padding)]\n",
    "        \n",
    "        fig.layout.yaxis2.range = [0, in_view.vol.max()]\n",
    "     \n",
    "        fig['layout'].update(title=stock+\" (\"+str(round(growth,2))+\"%)\") \n",
    "        max_val_y1 = max(abs(in_view.macd_line.max()),abs(in_view.macd_line.min()))\n",
    "        max_val_y2 = max(abs(in_view.signal_line.max()),abs(in_view.signal_line.min()))\n",
    "        max_val_y=max(max_val_y1,max_val_y2)\n",
    "        min_val_y = -max_val_y\n",
    "        axis_diff = max_val_y-min_val_y\n",
    "        fig.layout.yaxis4.range = [min_val_y - (axis_diff*padding), max_val_y + (axis_diff*padding)]\n",
    "    except Exception as e:\n",
    "        None\n",
    "fig.layout.on_change(zoom, 'xaxis')\n",
    "fig"
   ]
  },
  {
   "cell_type": "code",
   "execution_count": 101,
   "metadata": {},
   "outputs": [],
   "source": [
    "def supres(data, n):\n",
    "    \"\"\"\n",
    "    This function takes a numpy array of last traded price\n",
    "    and returns a list of support and resistance levels \n",
    "    respectively. n is the number of entries to be scanned.\n",
    "    \"\"\"\n",
    "    from scipy.signal import savgol_filter as smooth\n",
    "\n",
    "    #converting n to a nearest even number\n",
    "    if n%2 != 0:\n",
    "        n += 1\n",
    "    ltp = data.close\n",
    "    ltp_date = data.date\n",
    "    n_ltp = ltp.shape[0]\n",
    "\n",
    "    # smoothening the curve\n",
    "    ltp_s = smooth(ltp, (n+1), 3) \n",
    "\n",
    "    #taking a simple derivative\n",
    "    ltp_d = np.zeros(n_ltp)\n",
    "    ltp_d[1:] = np.subtract(ltp_s[1:], ltp_s[:-1])\n",
    " \n",
    "    resistance = {}\n",
    "    support = {}\n",
    "    \n",
    "    for i in range(n_ltp - n):\n",
    "        arr_sl = ltp_d[i:(i+n)]\n",
    "        first = arr_sl[:int(n/2)] #first half\n",
    "        last = arr_sl[int(n/2):] #second half\n",
    "        \n",
    "        r_1 = np.sum(first > 0)\n",
    "        r_2 = np.sum(last < 0)\n",
    "\n",
    "        s_1 = np.sum(first < 0)\n",
    "        s_2 = np.sum(last > 0)\n",
    "\n",
    "        #local maxima detection\n",
    "        if (r_1 == (n/2)) and (r_2 == (n/2)): \n",
    "            resistance[ltp_date[i+((n/2)-1)]]=(ltp[i+((n/2)-1)])\n",
    "\n",
    "        #local minima detection\n",
    "        if (s_1 == (n/2)) and (s_2 == (n/2)): \n",
    "            support[ltp_date[i+((n/2)-1)]]=(ltp[i+((n/2)-1)])\n",
    "\n",
    "    return support, resistance"
   ]
  },
  {
   "cell_type": "code",
   "execution_count": 120,
   "metadata": {},
   "outputs": [
    {
     "data": {
      "text/plain": [
       "[250.36037,\n",
       " 307.8078,\n",
       " 302.14716,\n",
       " 334.4745,\n",
       " 324.52954,\n",
       " 381.63162,\n",
       " 459.73474,\n",
       " 590.62,\n",
       " 553.0,\n",
       " 759.47,\n",
       " 730.06,\n",
       " 853.64,\n",
       " 993.84,\n",
       " 1164.16]"
      ]
     },
     "execution_count": 120,
     "metadata": {},
     "output_type": "execute_result"
    }
   ],
   "source": [
    "supres(data,30)[0].keys\n",
    "supres(data,30)[0].values\n",
    "supres(data,30)[1].keys\n",
    "\n"
   ]
  },
  {
   "cell_type": "code",
   "execution_count": null,
   "metadata": {},
   "outputs": [],
   "source": []
  },
  {
   "cell_type": "code",
   "execution_count": null,
   "metadata": {},
   "outputs": [],
   "source": []
  },
  {
   "cell_type": "code",
   "execution_count": null,
   "metadata": {},
   "outputs": [],
   "source": []
  },
  {
   "cell_type": "code",
   "execution_count": null,
   "metadata": {},
   "outputs": [],
   "source": []
  },
  {
   "cell_type": "code",
   "execution_count": null,
   "metadata": {},
   "outputs": [],
   "source": []
  },
  {
   "cell_type": "code",
   "execution_count": null,
   "metadata": {},
   "outputs": [],
   "source": []
  },
  {
   "cell_type": "code",
   "execution_count": null,
   "metadata": {},
   "outputs": [],
   "source": [
    "\n"
   ]
  },
  {
   "cell_type": "code",
   "execution_count": null,
   "metadata": {},
   "outputs": [],
   "source": []
  },
  {
   "cell_type": "code",
   "execution_count": 21,
   "metadata": {},
   "outputs": [],
   "source": []
  },
  {
   "cell_type": "code",
   "execution_count": null,
   "metadata": {},
   "outputs": [],
   "source": []
  }
 ],
 "metadata": {
  "kernelspec": {
   "display_name": "Python 3",
   "language": "python",
   "name": "python3"
  },
  "language_info": {
   "codemirror_mode": {
    "name": "ipython",
    "version": 3
   },
   "file_extension": ".py",
   "mimetype": "text/x-python",
   "name": "python",
   "nbconvert_exporter": "python",
   "pygments_lexer": "ipython3",
   "version": "3.6.8"
  }
 },
 "nbformat": 4,
 "nbformat_minor": 4
}
